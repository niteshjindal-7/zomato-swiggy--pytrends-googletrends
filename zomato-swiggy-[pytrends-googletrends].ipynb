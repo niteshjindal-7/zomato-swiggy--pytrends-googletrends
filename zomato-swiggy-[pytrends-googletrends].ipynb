{
 "cells": [
  {
   "cell_type": "code",
   "execution_count": 7,
   "id": "e61b5fae",
   "metadata": {},
   "outputs": [],
   "source": [
    "from pytrends.request import TrendReq\n",
    "import csv\n",
    "import pandas\n",
    "import numpy\n",
    "import time\n",
    "from pytrends.request import TrendReq\n",
    "#pip install pytrends==4.7.3"
   ]
  },
  {
   "cell_type": "code",
   "execution_count": 8,
   "id": "2d025246",
   "metadata": {},
   "outputs": [],
   "source": [
    "'Python to connect to Google Trends API using Pytrends'\n",
    "pytrends = TrendReq(hl='IN', tz=360)"
   ]
  },
  {
   "cell_type": "code",
   "execution_count": 10,
   "id": "f8e3b73e",
   "metadata": {},
   "outputs": [
    {
     "name": "stdout",
     "output_type": "stream",
     "text": [
      "            swiggy  zomato isPartial\n",
      "date                                \n",
      "2016-08-21       6      14     False\n",
      "2016-08-28       6      16     False\n",
      "2016-09-04       6      15     False\n",
      "2016-09-11       6      15     False\n",
      "2016-09-18       7      16     False\n",
      "...            ...     ...       ...\n",
      "2021-07-18      16     100     False\n",
      "2021-07-25      14      74     False\n",
      "2021-08-01      15      43     False\n",
      "2021-08-08      16      41     False\n",
      "2021-08-15      16      32      True\n",
      "\n",
      "[261 rows x 3 columns]\n"
     ]
    }
   ],
   "source": [
    "kw_list = ['swiggy', 'zomato']  #kw_list is a list of keywords to search\n",
    "#pytrend.build_payload(kw_list, cat=0, timeframe='today 3-m',geo='',gprop='')\n",
    "pytrends.build_payload(kw_list, geo='IN') #geo can be set to certain country code, e.g ‘US’, or ‘’ for worldwide\n",
    "interest_over_time_df = pytrends.interest_over_time()\n",
    "print(interest_over_time_df)\n"
   ]
  },
  {
   "cell_type": "code",
   "execution_count": null,
   "id": "d27b77c9",
   "metadata": {},
   "outputs": [],
   "source": [
    "interest_over_time_df.to_csv(\"C:/.../Swiggy-Zomato-Food-Aggregators-Analysis/articles_data/swiggy_zomato_pytrendsresults.csv\")"
   ]
  }
 ],
 "metadata": {
  "kernelspec": {
   "display_name": "Python 3 (ipykernel)",
   "language": "python",
   "name": "python3"
  },
  "language_info": {
   "codemirror_mode": {
    "name": "ipython",
    "version": 3
   },
   "file_extension": ".py",
   "mimetype": "text/x-python",
   "name": "python",
   "nbconvert_exporter": "python",
   "pygments_lexer": "ipython3",
   "version": "3.7.0"
  }
 },
 "nbformat": 4,
 "nbformat_minor": 5
}
